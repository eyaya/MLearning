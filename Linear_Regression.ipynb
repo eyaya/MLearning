{
 "cells": [
  {
   "cell_type": "code",
   "execution_count": 3,
   "metadata": {
    "collapsed": false
   },
   "outputs": [],
   "source": [
    "import matplotlib.pylab as plt\n",
    "import numpy as np\n",
    "import scipy.stats as st\n",
    "import sklearn.linear_model as lm\n",
    "import matplotlib.pyplot as plt\n",
    "%matplotlib inline"
   ]
  },
  {
   "cell_type": "code",
   "execution_count": 4,
   "metadata": {
    "collapsed": true
   },
   "outputs": [],
   "source": [
    "# y = mx + b\n",
    "# m is slope, b is y-intercept\n",
    "def Error_fun(b, m, points):\n",
    "    x=points[:,0]\n",
    "    y=points[:,1]\n",
    "    N = len(x)\n",
    "    totalError = (sum(y-(m*x-b))**2)/N\n",
    "    return totalError "
   ]
  },
  {
   "cell_type": "code",
   "execution_count": 5,
   "metadata": {
    "collapsed": true
   },
   "outputs": [],
   "source": [
    "def stepGradient(b_current, m_current, points, alpha):\n",
    "    x=points[:,0]\n",
    "    y=points[:,1]\n",
    "    N = len(x)\n",
    "    new_b = b_current - alpha*((2/N)*(sum(-(y-(m_current*x+b_current))))) \n",
    "    new_m = m_current - alpha*((2/N)*(sum(-x*(y-(m_current*x +b_current))))) \n",
    "    return [new_b, new_m]"
   ]
  },
  {
   "cell_type": "code",
   "execution_count": 6,
   "metadata": {
    "collapsed": false
   },
   "outputs": [],
   "source": [
    "def gradient_descent_runner(points, starting_b, starting_m, learning_rate, num_iterations):\n",
    "    b = starting_b\n",
    "    m = starting_m\n",
    "    for i in range(num_iterations):\n",
    "        b, m = stepGradient(b, m, np.array(points), learning_rate)\n",
    "        #print(Error_fun(b,m,points))\n",
    "        #print(b,m)\n",
    "    return [b, m]"
   ]
  },
  {
   "cell_type": "code",
   "execution_count": 7,
   "metadata": {
    "collapsed": false
   },
   "outputs": [
    {
     "name": "stdout",
     "output_type": "stream",
     "text": [
      "100\n"
     ]
    },
    {
     "data": {
      "image/png": "[encoded data removed]",
      "text/plain": [
       "<matplotlib.figure.Figure at 0x7ffb74a54278>"
      ]
     },
     "metadata": {},
     "output_type": "display_data"
    }
   ],
   "source": [
    "points = np.genfromtxt(\"data.csv\", delimiter=\",\")\n",
    "x=points[:,0]\n",
    "y=points[:,1]\n",
    "print(len(x))\n",
    "alpha = 0.00001\n",
    "initial_b = 0.03 # initial y-intercept guess\n",
    "initial_m = 1.4 # initial slope guess\n",
    "num_iterations = 1000\n",
    "\n",
    "[b, m] = gradient_descent_runner(points, initial_b, initial_m, alpha, num_iterations)\n",
    "y_fit= m*x +b\n",
    "plt.scatter(x,y,color='black')\n",
    "plt.plot(x,y_fit,color='blue')\n",
    "plt.show()\n"
   ]
  },
  {
   "cell_type": "code",
   "execution_count": 10,
   "metadata": {
    "collapsed": false
   },
   "outputs": [
    {
     "data": {
      "image/png": "[encoded data removed]",
      "text/plain": [
       "<matplotlib.figure.Figure at 0x7ffb724850b8>"
      ]
     },
     "metadata": {},
     "output_type": "display_data"
    }
   ],
   "source": [
    "# Load the diabetes dataset\n",
    "points = np.genfromtxt(\"data.csv\", delimiter=\",\")\n",
    "N=len(points[:,0])\n",
    "data_x=(points[:,0]).reshape(N,1)\n",
    "data_y=points[:,1]\n",
    "# Split the data into training/testing sets\n",
    "data_x_train = data_x[:-20]\n",
    "data_x_test = data_x[-20:]\n",
    "\n",
    "# Split the targets into training/testing sets\n",
    "data_y_train = data_y[:-20]\n",
    "data_y_test = data_y[-20:]\n",
    "\n",
    "# Create linear regression object\n",
    "regr = lm.LinearRegression()\n",
    "\n",
    "# Train the model using the training sets\n",
    "regr.fit(data_x_train, data_y_train)\n",
    "''''\n",
    "# The coefficients\n",
    "print('Coefficients: \\n', regr.coef_)\n",
    "# The mean squared error\n",
    "print(\"Mean squared error: %.2f\"\n",
    "      % np.mean((regr.predict(diabetes_X_test) - diabetes_y_test) ** 2))\n",
    "# Explained variance score: 1 is perfect prediction\n",
    "print('Variance score: %.2f' % regr.score(diabetes_X_test, diabetes_y_test))\n",
    "'''\n",
    "# Plot outputs\n",
    "plt.scatter(data_x, data_y,  color='green')\n",
    "plt.scatter(data_x_test, data_y_test,  color='black')\n",
    "plt.plot(data_x_test, regr.predict(data_x_test), color='blue',linewidth=3)\n",
    "\n",
    "#plt.xticks(())\n",
    "#plt.yticks(())\n",
    "\n",
    "plt.show()\n"
   ]
  },
  {
   "cell_type": "code",
   "execution_count": null,
   "metadata": {
    "collapsed": true
   },
   "outputs": [],
   "source": []
  },
  {
   "cell_type": "code",
   "execution_count": null,
   "metadata": {
    "collapsed": true
   },
   "outputs": [],
   "source": []
  }
 ],
 "metadata": {
  "kernelspec": {
   "display_name": "Python 3",
   "language": "python",
   "name": "python3"
  },
  "language_info": {
   "codemirror_mode": {
    "name": "ipython",
    "version": 3
   },
   "file_extension": ".py",
   "mimetype": "text/x-python",
   "name": "python",
   "nbconvert_exporter": "python",
   "pygments_lexer": "ipython3",
   "version": "3.5.3"
  }
 },
 "nbformat": 4,
 "nbformat_minor": 2
}
